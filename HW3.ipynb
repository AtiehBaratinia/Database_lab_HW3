{
 "cells": [
  {
   "cell_type": "code",
   "execution_count": 47,
   "id": "db9f4bca",
   "metadata": {},
   "outputs": [
    {
     "name": "stdout",
     "output_type": "stream",
     "text": [
      "[(2, '0'), (4, '1')]\n",
      "[(2, '0'), (1, '1')]\n",
      "[(2, 14), (2, 13), (2, 12)]\n"
     ]
    }
   ],
   "source": [
    "\n",
    "import psycopg2\n",
    "\n",
    "\n",
    "#establishing the connection\n",
    "conn = psycopg2.connect(\n",
    "   database='atieh', user='postgres', password='1', host='127.0.0.1', port= '5432'\n",
    ")\n",
    "cursor = conn.cursor()\n",
    "\n",
    "sql ='''\n",
    "    select count(id), sex from student group by sex;\n",
    "    \n",
    "'''\n",
    "cursor.execute(sql)\n",
    "result = cursor.fetchall()\n",
    "print(result)\n",
    "\n",
    "sql ='''\n",
    "    select count(id), sex from student group by sex, birth_year having birth_year = 1377;\n",
    "    \n",
    "'''\n",
    "cursor.execute(sql)\n",
    "\n",
    "result = cursor.fetchall()\n",
    "print(result)\n",
    "\n",
    "sql ='''\n",
    "    select count(code), code_teacher from course group by code_teacher having count(code) > 1;\n",
    "    \n",
    "'''\n",
    "cursor.execute(sql)\n",
    "\n",
    "result = cursor.fetchall()\n",
    "print(result)\n",
    "\n",
    "conn.close()\n",
    "\n"
   ]
  },
  {
   "cell_type": "code",
   "execution_count": 65,
   "id": "fa0336e2",
   "metadata": {},
   "outputs": [
    {
     "name": "stdout",
     "output_type": "stream",
     "text": [
      "(101, 'Database', 'Computer Engineering', 'Sunday 10.45', 8, 'Sina', 'Shokri')\n",
      "(102, 'IOT', 'Computer Engineering', 'Saturday 10.45', 3, 'Arash', 'Ahmadi')\n",
      "(103, 'Datamining', 'Computer Engineering', 'Monday 9.15', 4, 'Zahra', 'Zare')\n",
      "(103, 'Datamining', 'Computer Engineering', 'Monday 9.15', 7, 'Kamran', 'Zare')\n",
      "(105, 'Network', 'Computer Engineering', 'Monday 9.15', 7, 'Kamran', 'Zare')\n",
      "(105, 'Network', 'Computer Engineering', 'Monday 9.15', 8, 'Sina', 'Shokri')\n"
     ]
    }
   ],
   "source": [
    "\n",
    "import psycopg2\n",
    "\n",
    "\n",
    "#establishing the connection\n",
    "conn = psycopg2.connect(\n",
    "   database='atieh', user='postgres', password='1', host='127.0.0.1', port= '5432'\n",
    ")\n",
    "cursor = conn.cursor()\n",
    "\n",
    "sql ='''\n",
    "    select c.code, c.name, c.department, c.time_class, s.id, s.first_name, s.last_name  from course c inner join course_student cs on c.code=cs.code_course\n",
    "    inner join student s on s.id = cs.id_student order by c.code, s.id;\n",
    "    \n",
    "'''\n",
    "cursor.execute(sql)\n",
    "result = cursor.fetchall()\n",
    "for i in result:\n",
    "    print(i)\n",
    "\n",
    "conn.close()\n",
    "\n"
   ]
  },
  {
   "cell_type": "code",
   "execution_count": 70,
   "id": "c3e6e30c",
   "metadata": {},
   "outputs": [
    {
     "name": "stdout",
     "output_type": "stream",
     "text": [
      "(3, 'Arash', 'Ahmadi')\n",
      "(4, 'Zahra', 'Zare')\n"
     ]
    }
   ],
   "source": [
    "\n",
    "import psycopg2\n",
    "\n",
    "\n",
    "#establishing the connection\n",
    "conn = psycopg2.connect(\n",
    "   database='atieh', user='postgres', password='1', host='127.0.0.1', port= '5432'\n",
    ")\n",
    "cursor = conn.cursor()\n",
    "\n",
    "sql ='''\n",
    "    with inner_query as(\n",
    "    select c.code, c.name, c.department, c.time_class, s.id, s.first_name, s.last_name  from course c \n",
    "    inner join course_student cs on c.code=cs.code_course\n",
    "    inner join student s on s.id = cs.id_student order by c.code, s.id) \n",
    "    select id, first_name, last_name from inner_query \n",
    "    group by id, first_name, last_name having count(id) = 1\n",
    "    \n",
    "    ;\n",
    "    \n",
    "'''\n",
    "cursor.execute(sql)\n",
    "result = cursor.fetchall()\n",
    "for i in result:\n",
    "    print(i)\n",
    "\n",
    "conn.close()\n",
    "\n"
   ]
  },
  {
   "cell_type": "code",
   "execution_count": 80,
   "id": "c97bc32f",
   "metadata": {},
   "outputs": [
    {
     "name": "stdout",
     "output_type": "stream",
     "text": [
      "(101, 'Database', 'Computer Engineering', 'Sunday 10.45')\n",
      "(102, 'IOT', 'Computer Engineering', 'Saturday 10.45')\n",
      "(103, 'Datamining', 'Computer Engineering', 'Monday 9.15')\n",
      "(105, 'Network', 'Computer Engineering', 'Monday 9.15')\n",
      "-------------------------\n",
      "(101, 'Database', 'Computer Engineering', 'Sunday 10.45')\n",
      "(102, 'IOT', 'Computer Engineering', 'Saturday 10.45')\n",
      "(103, 'Datamining', 'Computer Engineering', 'Monday 9.15')\n",
      "(105, 'Network', 'Computer Engineering', 'Monday 9.15')\n",
      "(106, 'AP', 'Computer Engineering', 'Saturday 10.45')\n",
      "(107, 'Signal', 'Computer Engineering', 'Sunday 10.45')\n"
     ]
    }
   ],
   "source": [
    "\n",
    "import psycopg2\n",
    "\n",
    "\n",
    "#establishing the connection\n",
    "conn = psycopg2.connect(\n",
    "   database='atieh', user='postgres', password='1', host='127.0.0.1', port= '5432'\n",
    ")\n",
    "cursor = conn.cursor()\n",
    "\n",
    "sql ='''\n",
    "    select distinct c.code, c.name, c.department, c.time_class from course c \n",
    "    inner join course_student cs on c.code=cs.code_course\n",
    "     order by c.code\n",
    "    ;\n",
    "    \n",
    "'''\n",
    "cursor.execute(sql)\n",
    "result = cursor.fetchall()\n",
    "for i in result:\n",
    "    print(i)\n",
    "print('-------------------------')\n",
    "sql ='''\n",
    "    select distinct c.code, c.name, c.department, c.time_class from course c \n",
    "    left join course_student cs on c.code=cs.code_course\n",
    "    order by c.code\n",
    "    ;\n",
    "    \n",
    "'''\n",
    "cursor.execute(sql)\n",
    "result = cursor.fetchall()\n",
    "for i in result:\n",
    "    print(i)\n",
    "    \n",
    "conn.close()\n",
    "\n"
   ]
  },
  {
   "cell_type": "code",
   "execution_count": 119,
   "id": "014d0e32",
   "metadata": {},
   "outputs": [
    {
     "name": "stdout",
     "output_type": "stream",
     "text": [
      "(103, 'Datamining', 'Computer Engineering', 'Monday 9.15')\n",
      "(105, 'Network', 'Computer Engineering', 'Monday 9.15')\n"
     ]
    }
   ],
   "source": [
    "\n",
    "import psycopg2\n",
    "\n",
    "\n",
    "#establishing the connection\n",
    "conn = psycopg2.connect(\n",
    "   database='atieh', user='postgres', password='1', host='127.0.0.1', port= '5432'\n",
    ")\n",
    "cursor = conn.cursor()\n",
    "\n",
    "sql ='''\n",
    "    select code, name, department, time_class from course where exists\n",
    "    (select c.code, c.name, c.department, c.time_class, s.id, s.first_name, s.last_name  from course c \n",
    "    right join course_student cs on c.code=cs.code_course\n",
    "    right join student s on s.id = cs.id_student \n",
    "    where c.name is not null  and s.id > all(select s.id where s.first_name = 'Kamran' or \n",
    "    s.id < any(select s.id where s.last_name='Shokri'))\n",
    "    ) and\n",
    "    time_class like 'Monday%'\n",
    "    ;\n",
    "    \n",
    "'''\n",
    "cursor.execute(sql)\n",
    "result = cursor.fetchall()\n",
    "for i in result:\n",
    "    print(i)\n",
    "\n",
    "    \n",
    "conn.close()\n",
    "\n"
   ]
  },
  {
   "cell_type": "code",
   "execution_count": null,
   "id": "476625a3",
   "metadata": {},
   "outputs": [],
   "source": []
  },
  {
   "cell_type": "code",
   "execution_count": null,
   "id": "84071437",
   "metadata": {},
   "outputs": [],
   "source": []
  },
  {
   "cell_type": "code",
   "execution_count": 98,
   "id": "1c772b5c",
   "metadata": {},
   "outputs": [
    {
     "name": "stdout",
     "output_type": "stream",
     "text": [
      "(101, 'Database', 'Computer Engineering', 12, 'Sunday 10.45')\n",
      "(102, 'IOT', 'Computer Engineering', 14, 'Saturday 10.45')\n",
      "(103, 'Datamining', 'Computer Engineering', 13, 'Monday 9.15')\n",
      "(107, 'Signal', 'Computer Engineering', 12, 'Sunday 10.45')\n",
      "(106, 'AP', 'Computer Engineering', 14, 'Saturday 10.45')\n",
      "(105, 'Network', 'Computer Engineering', 13, 'Monday 9.15')\n"
     ]
    }
   ],
   "source": [
    "\n",
    "import psycopg2\n",
    "\n",
    "\n",
    "#establishing the connection\n",
    "conn = psycopg2.connect(\n",
    "   database='atieh', user='postgres', password='1', host='127.0.0.1', port= '5432'\n",
    ")\n",
    "cursor = conn.cursor()\n",
    "\n",
    "sql ='''\n",
    "    select * from course\n",
    "    ;\n",
    "    \n",
    "'''\n",
    "cursor.execute(sql)\n",
    "result = cursor.fetchall()\n",
    "for i in result:\n",
    "    print(i)\n",
    "\n",
    "    \n",
    "conn.close()\n",
    "\n",
    "\n"
   ]
  },
  {
   "cell_type": "code",
   "execution_count": null,
   "id": "bc956bb7",
   "metadata": {},
   "outputs": [],
   "source": []
  }
 ],
 "metadata": {
  "kernelspec": {
   "display_name": "Python 3 (ipykernel)",
   "language": "python",
   "name": "python3"
  },
  "language_info": {
   "codemirror_mode": {
    "name": "ipython",
    "version": 3
   },
   "file_extension": ".py",
   "mimetype": "text/x-python",
   "name": "python",
   "nbconvert_exporter": "python",
   "pygments_lexer": "ipython3",
   "version": "3.9.5"
  }
 },
 "nbformat": 4,
 "nbformat_minor": 5
}
